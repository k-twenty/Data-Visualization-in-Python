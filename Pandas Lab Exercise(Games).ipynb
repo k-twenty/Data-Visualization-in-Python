{
  "metadata": {
    "kernelspec": {
      "name": "python",
      "display_name": "Python (Pyodide)",
      "language": "python"
    },
    "language_info": {
      "codemirror_mode": {
        "name": "python",
        "version": 3
      },
      "file_extension": ".py",
      "mimetype": "text/x-python",
      "name": "python",
      "nbconvert_exporter": "python",
      "pygments_lexer": "ipython3",
      "version": "3.8"
    }
  },
  "nbformat_minor": 4,
  "nbformat": 4,
  "cells": [
    {
      "cell_type": "code",
      "source": "#Import pandas as pd\nimport pandas as pd",
      "metadata": {
        "trusted": true
      },
      "outputs": [],
      "execution_count": 1
    },
    {
      "cell_type": "code",
      "source": "#Read games.csv as a dataframe called games.\ngames = pd.read_csv('games.csv')",
      "metadata": {
        "trusted": true
      },
      "outputs": [],
      "execution_count": 2
    },
    {
      "cell_type": "code",
      "source": "#Check the head of the DataFrame.\ngames.head()",
      "metadata": {
        "trusted": true
      },
      "outputs": [
        {
          "execution_count": 3,
          "output_type": "execute_result",
          "data": {
            "text/plain": "       id       type                                       name  \\\n0   12333  boardgame                          Twilight Struggle   \n1  120677  boardgame                              Terra Mystica   \n2  102794  boardgame                  Caverna: The Cave Farmers   \n3   25613  boardgame  Through the Ages: A Story of Civilization   \n4    3076  boardgame                                Puerto Rico   \n\n   yearpublished  minplayers  maxplayers  playingtime  minplaytime  \\\n0         2005.0         2.0         2.0        180.0        180.0   \n1         2012.0         2.0         5.0        150.0         60.0   \n2         2013.0         1.0         7.0        210.0         30.0   \n3         2006.0         2.0         4.0        240.0        240.0   \n4         2002.0         2.0         5.0        150.0         90.0   \n\n   maxplaytime  minage  users_rated  average_rating  bayes_average_rating  \\\n0        180.0    13.0        20113         8.33774               8.22186   \n1        150.0    12.0        14383         8.28798               8.14232   \n2        210.0    12.0         9262         8.28994               8.06886   \n3        240.0    12.0        13294         8.20407               8.05804   \n4        150.0    12.0        39883         8.14261               8.04524   \n\n   total_owners  total_traders  total_wanters  total_wishers  total_comments  \\\n0         26647            372           1219           5865            5347   \n1         16519            132           1586           6277            2526   \n2         12230             99           1476           5600            1700   \n3         14343            362           1084           5075            3378   \n4         44362            795            861           5414            9173   \n\n   total_weights  average_weight  \n0           2562          3.4785  \n1           1423          3.8939  \n2            777          3.7761  \n3           1642          4.1590  \n4           5213          3.2943  ",
            "text/html": "<div>\n<style scoped>\n    .dataframe tbody tr th:only-of-type {\n        vertical-align: middle;\n    }\n\n    .dataframe tbody tr th {\n        vertical-align: top;\n    }\n\n    .dataframe thead th {\n        text-align: right;\n    }\n</style>\n<table border=\"1\" class=\"dataframe\">\n  <thead>\n    <tr style=\"text-align: right;\">\n      <th></th>\n      <th>id</th>\n      <th>type</th>\n      <th>name</th>\n      <th>yearpublished</th>\n      <th>minplayers</th>\n      <th>maxplayers</th>\n      <th>playingtime</th>\n      <th>minplaytime</th>\n      <th>maxplaytime</th>\n      <th>minage</th>\n      <th>users_rated</th>\n      <th>average_rating</th>\n      <th>bayes_average_rating</th>\n      <th>total_owners</th>\n      <th>total_traders</th>\n      <th>total_wanters</th>\n      <th>total_wishers</th>\n      <th>total_comments</th>\n      <th>total_weights</th>\n      <th>average_weight</th>\n    </tr>\n  </thead>\n  <tbody>\n    <tr>\n      <th>0</th>\n      <td>12333</td>\n      <td>boardgame</td>\n      <td>Twilight Struggle</td>\n      <td>2005.0</td>\n      <td>2.0</td>\n      <td>2.0</td>\n      <td>180.0</td>\n      <td>180.0</td>\n      <td>180.0</td>\n      <td>13.0</td>\n      <td>20113</td>\n      <td>8.33774</td>\n      <td>8.22186</td>\n      <td>26647</td>\n      <td>372</td>\n      <td>1219</td>\n      <td>5865</td>\n      <td>5347</td>\n      <td>2562</td>\n      <td>3.4785</td>\n    </tr>\n    <tr>\n      <th>1</th>\n      <td>120677</td>\n      <td>boardgame</td>\n      <td>Terra Mystica</td>\n      <td>2012.0</td>\n      <td>2.0</td>\n      <td>5.0</td>\n      <td>150.0</td>\n      <td>60.0</td>\n      <td>150.0</td>\n      <td>12.0</td>\n      <td>14383</td>\n      <td>8.28798</td>\n      <td>8.14232</td>\n      <td>16519</td>\n      <td>132</td>\n      <td>1586</td>\n      <td>6277</td>\n      <td>2526</td>\n      <td>1423</td>\n      <td>3.8939</td>\n    </tr>\n    <tr>\n      <th>2</th>\n      <td>102794</td>\n      <td>boardgame</td>\n      <td>Caverna: The Cave Farmers</td>\n      <td>2013.0</td>\n      <td>1.0</td>\n      <td>7.0</td>\n      <td>210.0</td>\n      <td>30.0</td>\n      <td>210.0</td>\n      <td>12.0</td>\n      <td>9262</td>\n      <td>8.28994</td>\n      <td>8.06886</td>\n      <td>12230</td>\n      <td>99</td>\n      <td>1476</td>\n      <td>5600</td>\n      <td>1700</td>\n      <td>777</td>\n      <td>3.7761</td>\n    </tr>\n    <tr>\n      <th>3</th>\n      <td>25613</td>\n      <td>boardgame</td>\n      <td>Through the Ages: A Story of Civilization</td>\n      <td>2006.0</td>\n      <td>2.0</td>\n      <td>4.0</td>\n      <td>240.0</td>\n      <td>240.0</td>\n      <td>240.0</td>\n      <td>12.0</td>\n      <td>13294</td>\n      <td>8.20407</td>\n      <td>8.05804</td>\n      <td>14343</td>\n      <td>362</td>\n      <td>1084</td>\n      <td>5075</td>\n      <td>3378</td>\n      <td>1642</td>\n      <td>4.1590</td>\n    </tr>\n    <tr>\n      <th>4</th>\n      <td>3076</td>\n      <td>boardgame</td>\n      <td>Puerto Rico</td>\n      <td>2002.0</td>\n      <td>2.0</td>\n      <td>5.0</td>\n      <td>150.0</td>\n      <td>90.0</td>\n      <td>150.0</td>\n      <td>12.0</td>\n      <td>39883</td>\n      <td>8.14261</td>\n      <td>8.04524</td>\n      <td>44362</td>\n      <td>795</td>\n      <td>861</td>\n      <td>5414</td>\n      <td>9173</td>\n      <td>5213</td>\n      <td>3.2943</td>\n    </tr>\n  </tbody>\n</table>\n</div>"
          },
          "metadata": {}
        }
      ],
      "execution_count": 3
    },
    {
      "cell_type": "code",
      "source": "#Use .info() method to find out total number of entries in dataset.\ngames.info()",
      "metadata": {
        "trusted": true
      },
      "outputs": [
        {
          "name": "stdout",
          "text": "<class 'pandas.core.frame.DataFrame'>\nRangeIndex: 81312 entries, 0 to 81311\nData columns (total 20 columns):\n #   Column                Non-Null Count  Dtype  \n---  ------                --------------  -----  \n 0   id                    81312 non-null  int64  \n 1   type                  81312 non-null  object \n 2   name                  81271 non-null  object \n 3   yearpublished         81309 non-null  float64\n 4   minplayers            81309 non-null  float64\n 5   maxplayers            81309 non-null  float64\n 6   playingtime           81309 non-null  float64\n 7   minplaytime           81309 non-null  float64\n 8   maxplaytime           81309 non-null  float64\n 9   minage                81309 non-null  float64\n 10  users_rated           81312 non-null  int64  \n 11  average_rating        81312 non-null  float64\n 12  bayes_average_rating  81312 non-null  float64\n 13  total_owners          81312 non-null  int64  \n 14  total_traders         81312 non-null  int64  \n 15  total_wanters         81312 non-null  int64  \n 16  total_wishers         81312 non-null  int64  \n 17  total_comments        81312 non-null  int64  \n 18  total_weights         81312 non-null  int64  \n 19  average_weight        81312 non-null  float64\ndtypes: float64(10), int64(8), object(2)\nmemory usage: 11.8+ MB\n",
          "output_type": "stream"
        }
      ],
      "execution_count": 4
    },
    {
      "cell_type": "code",
      "source": "#What is the mean playing time for all games put together?\ngames['playingtime'].mean()",
      "metadata": {
        "trusted": true
      },
      "outputs": [
        {
          "execution_count": 5,
          "output_type": "execute_result",
          "data": {
            "text/plain": "51.63478827682052"
          },
          "metadata": {}
        }
      ],
      "execution_count": 5
    },
    {
      "cell_type": "code",
      "source": "#What is the highest number of comments received for a game?\ngames['total_comments'].max()",
      "metadata": {
        "trusted": true
      },
      "outputs": [
        {
          "execution_count": 6,
          "output_type": "execute_result",
          "data": {
            "text/plain": "11798"
          },
          "metadata": {}
        }
      ],
      "execution_count": 6
    },
    {
      "cell_type": "code",
      "source": "#What is the name with id 1500?\ngames[games['id']==1500]['name']",
      "metadata": {
        "trusted": true
      },
      "outputs": [
        {
          "execution_count": 7,
          "output_type": "execute_result",
          "data": {
            "text/plain": "10592    Zocken\nName: name, dtype: object"
          },
          "metadata": {}
        }
      ],
      "execution_count": 7
    },
    {
      "cell_type": "code",
      "source": "#And what year was it published?\ngames[games['id']==1500]['yearpublished']",
      "metadata": {
        "trusted": true
      },
      "outputs": [
        {
          "execution_count": 8,
          "output_type": "execute_result",
          "data": {
            "text/plain": "10592    1999.0\nName: yearpublished, dtype: float64"
          },
          "metadata": {}
        }
      ],
      "execution_count": 8
    },
    {
      "cell_type": "code",
      "source": "# Which game has received highest number of comments?\ngames[games['total_comments']==games['total_comments'].max()]",
      "metadata": {
        "trusted": true
      },
      "outputs": [
        {
          "execution_count": 9,
          "output_type": "execute_result",
          "data": {
            "text/plain": "      id       type   name  yearpublished  minplayers  maxplayers  \\\n165   13  boardgame  Catan         1995.0         3.0         4.0   \n1965  13  boardgame  Catan         1995.0         3.0         4.0   \n\n      playingtime  minplaytime  maxplaytime  minage  users_rated  \\\n165          90.0         90.0         90.0    10.0        53680   \n1965         90.0         90.0         90.0    10.0        53680   \n\n      average_rating  bayes_average_rating  total_owners  total_traders  \\\n165          7.34303               7.21171         73188           1071   \n1965         7.34303               7.21171         73188           1071   \n\n      total_wanters  total_wishers  total_comments  total_weights  \\\n165             391           3201           11798           5996   \n1965            391           3201           11798           5996   \n\n      average_weight  \n165           2.3712  \n1965          2.3712  ",
            "text/html": "<div>\n<style scoped>\n    .dataframe tbody tr th:only-of-type {\n        vertical-align: middle;\n    }\n\n    .dataframe tbody tr th {\n        vertical-align: top;\n    }\n\n    .dataframe thead th {\n        text-align: right;\n    }\n</style>\n<table border=\"1\" class=\"dataframe\">\n  <thead>\n    <tr style=\"text-align: right;\">\n      <th></th>\n      <th>id</th>\n      <th>type</th>\n      <th>name</th>\n      <th>yearpublished</th>\n      <th>minplayers</th>\n      <th>maxplayers</th>\n      <th>playingtime</th>\n      <th>minplaytime</th>\n      <th>maxplaytime</th>\n      <th>minage</th>\n      <th>users_rated</th>\n      <th>average_rating</th>\n      <th>bayes_average_rating</th>\n      <th>total_owners</th>\n      <th>total_traders</th>\n      <th>total_wanters</th>\n      <th>total_wishers</th>\n      <th>total_comments</th>\n      <th>total_weights</th>\n      <th>average_weight</th>\n    </tr>\n  </thead>\n  <tbody>\n    <tr>\n      <th>165</th>\n      <td>13</td>\n      <td>boardgame</td>\n      <td>Catan</td>\n      <td>1995.0</td>\n      <td>3.0</td>\n      <td>4.0</td>\n      <td>90.0</td>\n      <td>90.0</td>\n      <td>90.0</td>\n      <td>10.0</td>\n      <td>53680</td>\n      <td>7.34303</td>\n      <td>7.21171</td>\n      <td>73188</td>\n      <td>1071</td>\n      <td>391</td>\n      <td>3201</td>\n      <td>11798</td>\n      <td>5996</td>\n      <td>2.3712</td>\n    </tr>\n    <tr>\n      <th>1965</th>\n      <td>13</td>\n      <td>boardgame</td>\n      <td>Catan</td>\n      <td>1995.0</td>\n      <td>3.0</td>\n      <td>4.0</td>\n      <td>90.0</td>\n      <td>90.0</td>\n      <td>90.0</td>\n      <td>10.0</td>\n      <td>53680</td>\n      <td>7.34303</td>\n      <td>7.21171</td>\n      <td>73188</td>\n      <td>1071</td>\n      <td>391</td>\n      <td>3201</td>\n      <td>11798</td>\n      <td>5996</td>\n      <td>2.3712</td>\n    </tr>\n  </tbody>\n</table>\n</div>"
          },
          "metadata": {}
        }
      ],
      "execution_count": 9
    },
    {
      "cell_type": "code",
      "source": "# Which games have received least number of comments?\ngames[games['total_comments']==games['total_comments'].min()]",
      "metadata": {
        "trusted": true
      },
      "outputs": [
        {
          "execution_count": 10,
          "output_type": "execute_result",
          "data": {
            "text/plain": "           id                type  \\\n13048     318           boardgame   \n13054     468           boardgame   \n13068     579           boardgame   \n13095     738           boardgame   \n13103     778           boardgame   \n...       ...                 ...   \n81307  184441  boardgameexpansion   \n81308  184442           boardgame   \n81309  184443           boardgame   \n81310  184449           boardgame   \n81311  184451           boardgame   \n\n                                                    name  yearpublished  \\\n13048                                         Looney Leo            0.0   \n13054                                               Dump            0.0   \n13068                                      Field of Fire         2002.0   \n13095                                           Matheeno         2000.0   \n13103  Auction America: The Trivia Game for Any Colle...         2000.0   \n...                                                  ...            ...   \n81307                               Micro Rome: Aegyptus         2015.0   \n81308  Trivial Pursuit: Marvel Cinematic Universe  Da...         2013.0   \n81309                                          BEARanoia         2015.0   \n81310                                            Freight         2015.0   \n81311                                  Bingo Animal Kids         2010.0   \n\n       minplayers  maxplayers  playingtime  minplaytime  maxplaytime  minage  \\\n13048         0.0         0.0          0.0          0.0          0.0     0.0   \n13054         0.0         0.0          0.0          0.0          0.0     0.0   \n13068         2.0         0.0          0.0          0.0          0.0    12.0   \n13095         2.0         2.0         20.0         20.0         20.0     9.0   \n13103         2.0         4.0         60.0         60.0         60.0     0.0   \n...           ...         ...          ...          ...          ...     ...   \n81307         1.0         1.0          0.0         30.0          0.0    10.0   \n81308         2.0         0.0          0.0          0.0          0.0    12.0   \n81309         2.0        15.0          1.0          1.0          1.0     0.0   \n81310         2.0         4.0         60.0         30.0         60.0     8.0   \n81311         1.0         6.0         10.0         10.0         10.0     2.0   \n\n       users_rated  average_rating  bayes_average_rating  total_owners  \\\n13048            0             0.0                   0.0             0   \n13054            2             5.5                   0.0             3   \n13068            0             0.0                   0.0             2   \n13095            1             3.0                   0.0             0   \n13103            1             4.0                   0.0             2   \n...            ...             ...                   ...           ...   \n81307            0             0.0                   0.0             0   \n81308            0             0.0                   0.0             0   \n81309            0             0.0                   0.0             0   \n81310            0             0.0                   0.0             0   \n81311            0             0.0                   0.0             0   \n\n       total_traders  total_wanters  total_wishers  total_comments  \\\n13048              0              0              1               0   \n13054              0              1              3               0   \n13068              0              0              1               0   \n13095              0              1              1               0   \n13103              0              0              2               0   \n...              ...            ...            ...             ...   \n81307              0              0              0               0   \n81308              0              0              0               0   \n81309              0              0              0               0   \n81310              0              0              0               0   \n81311              0              0              0               0   \n\n       total_weights  average_weight  \n13048              0             0.0  \n13054              0             0.0  \n13068              0             0.0  \n13095              0             0.0  \n13103              0             0.0  \n...              ...             ...  \n81307              0             0.0  \n81308              0             0.0  \n81309              0             0.0  \n81310              0             0.0  \n81311              0             0.0  \n\n[29001 rows x 20 columns]",
            "text/html": "<div>\n<style scoped>\n    .dataframe tbody tr th:only-of-type {\n        vertical-align: middle;\n    }\n\n    .dataframe tbody tr th {\n        vertical-align: top;\n    }\n\n    .dataframe thead th {\n        text-align: right;\n    }\n</style>\n<table border=\"1\" class=\"dataframe\">\n  <thead>\n    <tr style=\"text-align: right;\">\n      <th></th>\n      <th>id</th>\n      <th>type</th>\n      <th>name</th>\n      <th>yearpublished</th>\n      <th>minplayers</th>\n      <th>maxplayers</th>\n      <th>playingtime</th>\n      <th>minplaytime</th>\n      <th>maxplaytime</th>\n      <th>minage</th>\n      <th>users_rated</th>\n      <th>average_rating</th>\n      <th>bayes_average_rating</th>\n      <th>total_owners</th>\n      <th>total_traders</th>\n      <th>total_wanters</th>\n      <th>total_wishers</th>\n      <th>total_comments</th>\n      <th>total_weights</th>\n      <th>average_weight</th>\n    </tr>\n  </thead>\n  <tbody>\n    <tr>\n      <th>13048</th>\n      <td>318</td>\n      <td>boardgame</td>\n      <td>Looney Leo</td>\n      <td>0.0</td>\n      <td>0.0</td>\n      <td>0.0</td>\n      <td>0.0</td>\n      <td>0.0</td>\n      <td>0.0</td>\n      <td>0.0</td>\n      <td>0</td>\n      <td>0.0</td>\n      <td>0.0</td>\n      <td>0</td>\n      <td>0</td>\n      <td>0</td>\n      <td>1</td>\n      <td>0</td>\n      <td>0</td>\n      <td>0.0</td>\n    </tr>\n    <tr>\n      <th>13054</th>\n      <td>468</td>\n      <td>boardgame</td>\n      <td>Dump</td>\n      <td>0.0</td>\n      <td>0.0</td>\n      <td>0.0</td>\n      <td>0.0</td>\n      <td>0.0</td>\n      <td>0.0</td>\n      <td>0.0</td>\n      <td>2</td>\n      <td>5.5</td>\n      <td>0.0</td>\n      <td>3</td>\n      <td>0</td>\n      <td>1</td>\n      <td>3</td>\n      <td>0</td>\n      <td>0</td>\n      <td>0.0</td>\n    </tr>\n    <tr>\n      <th>13068</th>\n      <td>579</td>\n      <td>boardgame</td>\n      <td>Field of Fire</td>\n      <td>2002.0</td>\n      <td>2.0</td>\n      <td>0.0</td>\n      <td>0.0</td>\n      <td>0.0</td>\n      <td>0.0</td>\n      <td>12.0</td>\n      <td>0</td>\n      <td>0.0</td>\n      <td>0.0</td>\n      <td>2</td>\n      <td>0</td>\n      <td>0</td>\n      <td>1</td>\n      <td>0</td>\n      <td>0</td>\n      <td>0.0</td>\n    </tr>\n    <tr>\n      <th>13095</th>\n      <td>738</td>\n      <td>boardgame</td>\n      <td>Matheeno</td>\n      <td>2000.0</td>\n      <td>2.0</td>\n      <td>2.0</td>\n      <td>20.0</td>\n      <td>20.0</td>\n      <td>20.0</td>\n      <td>9.0</td>\n      <td>1</td>\n      <td>3.0</td>\n      <td>0.0</td>\n      <td>0</td>\n      <td>0</td>\n      <td>1</td>\n      <td>1</td>\n      <td>0</td>\n      <td>0</td>\n      <td>0.0</td>\n    </tr>\n    <tr>\n      <th>13103</th>\n      <td>778</td>\n      <td>boardgame</td>\n      <td>Auction America: The Trivia Game for Any Colle...</td>\n      <td>2000.0</td>\n      <td>2.0</td>\n      <td>4.0</td>\n      <td>60.0</td>\n      <td>60.0</td>\n      <td>60.0</td>\n      <td>0.0</td>\n      <td>1</td>\n      <td>4.0</td>\n      <td>0.0</td>\n      <td>2</td>\n      <td>0</td>\n      <td>0</td>\n      <td>2</td>\n      <td>0</td>\n      <td>0</td>\n      <td>0.0</td>\n    </tr>\n    <tr>\n      <th>...</th>\n      <td>...</td>\n      <td>...</td>\n      <td>...</td>\n      <td>...</td>\n      <td>...</td>\n      <td>...</td>\n      <td>...</td>\n      <td>...</td>\n      <td>...</td>\n      <td>...</td>\n      <td>...</td>\n      <td>...</td>\n      <td>...</td>\n      <td>...</td>\n      <td>...</td>\n      <td>...</td>\n      <td>...</td>\n      <td>...</td>\n      <td>...</td>\n      <td>...</td>\n    </tr>\n    <tr>\n      <th>81307</th>\n      <td>184441</td>\n      <td>boardgameexpansion</td>\n      <td>Micro Rome: Aegyptus</td>\n      <td>2015.0</td>\n      <td>1.0</td>\n      <td>1.0</td>\n      <td>0.0</td>\n      <td>30.0</td>\n      <td>0.0</td>\n      <td>10.0</td>\n      <td>0</td>\n      <td>0.0</td>\n      <td>0.0</td>\n      <td>0</td>\n      <td>0</td>\n      <td>0</td>\n      <td>0</td>\n      <td>0</td>\n      <td>0</td>\n      <td>0.0</td>\n    </tr>\n    <tr>\n      <th>81308</th>\n      <td>184442</td>\n      <td>boardgame</td>\n      <td>Trivial Pursuit: Marvel Cinematic Universe  Da...</td>\n      <td>2013.0</td>\n      <td>2.0</td>\n      <td>0.0</td>\n      <td>0.0</td>\n      <td>0.0</td>\n      <td>0.0</td>\n      <td>12.0</td>\n      <td>0</td>\n      <td>0.0</td>\n      <td>0.0</td>\n      <td>0</td>\n      <td>0</td>\n      <td>0</td>\n      <td>0</td>\n      <td>0</td>\n      <td>0</td>\n      <td>0.0</td>\n    </tr>\n    <tr>\n      <th>81309</th>\n      <td>184443</td>\n      <td>boardgame</td>\n      <td>BEARanoia</td>\n      <td>2015.0</td>\n      <td>2.0</td>\n      <td>15.0</td>\n      <td>1.0</td>\n      <td>1.0</td>\n      <td>1.0</td>\n      <td>0.0</td>\n      <td>0</td>\n      <td>0.0</td>\n      <td>0.0</td>\n      <td>0</td>\n      <td>0</td>\n      <td>0</td>\n      <td>0</td>\n      <td>0</td>\n      <td>0</td>\n      <td>0.0</td>\n    </tr>\n    <tr>\n      <th>81310</th>\n      <td>184449</td>\n      <td>boardgame</td>\n      <td>Freight</td>\n      <td>2015.0</td>\n      <td>2.0</td>\n      <td>4.0</td>\n      <td>60.0</td>\n      <td>30.0</td>\n      <td>60.0</td>\n      <td>8.0</td>\n      <td>0</td>\n      <td>0.0</td>\n      <td>0.0</td>\n      <td>0</td>\n      <td>0</td>\n      <td>0</td>\n      <td>0</td>\n      <td>0</td>\n      <td>0</td>\n      <td>0.0</td>\n    </tr>\n    <tr>\n      <th>81311</th>\n      <td>184451</td>\n      <td>boardgame</td>\n      <td>Bingo Animal Kids</td>\n      <td>2010.0</td>\n      <td>1.0</td>\n      <td>6.0</td>\n      <td>10.0</td>\n      <td>10.0</td>\n      <td>10.0</td>\n      <td>2.0</td>\n      <td>0</td>\n      <td>0.0</td>\n      <td>0.0</td>\n      <td>0</td>\n      <td>0</td>\n      <td>0</td>\n      <td>0</td>\n      <td>0</td>\n      <td>0</td>\n      <td>0.0</td>\n    </tr>\n  </tbody>\n</table>\n<p>29001 rows × 20 columns</p>\n</div>"
          },
          "metadata": {}
        }
      ],
      "execution_count": 10
    },
    {
      "cell_type": "code",
      "source": "# What was the average minage of all games per game \"type\"?(boardgame & boardgameexpansion)\ngames.groupby('type').mean()['minage']",
      "metadata": {
        "trusted": true
      },
      "outputs": [
        {
          "name": "stderr",
          "text": "<ipython-input-11-7ee94751bd84>:2: FutureWarning: The default value of numeric_only in DataFrameGroupBy.mean is deprecated. In a future version, numeric_only will default to False. Either specify numeric_only or select only columns which should be valid for the function.\n  games.groupby('type').mean()['minage']\n",
          "output_type": "stream"
        },
        {
          "execution_count": 11,
          "output_type": "execute_result",
          "data": {
            "text/plain": "type\nboardgame             6.724798\nboardgameexpansion    8.733321\nName: minage, dtype: float64"
          },
          "metadata": {}
        }
      ],
      "execution_count": 11
    },
    {
      "cell_type": "code",
      "source": "# How many unique games are there in the dataset?\ngames['id'].nunique()",
      "metadata": {
        "trusted": true
      },
      "outputs": [
        {
          "execution_count": 12,
          "output_type": "execute_result",
          "data": {
            "text/plain": "79463"
          },
          "metadata": {}
        }
      ],
      "execution_count": 12
    },
    {
      "cell_type": "code",
      "source": "# How many boardgames and boardgamesexpansions are there in the dataset?\ngames['type'].value_counts()",
      "metadata": {
        "trusted": true
      },
      "outputs": [
        {
          "execution_count": 13,
          "output_type": "execute_result",
          "data": {
            "text/plain": "boardgame             70820\nboardgameexpansion    10492\nName: type, dtype: int64"
          },
          "metadata": {}
        }
      ],
      "execution_count": 13
    },
    {
      "cell_type": "code",
      "source": "# Is there correlation between playing time and total comments for the games?\n",
      "metadata": {
        "trusted": true
      },
      "outputs": [],
      "execution_count": null
    }
  ]
}