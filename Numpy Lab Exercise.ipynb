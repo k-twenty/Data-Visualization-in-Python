{
  "metadata": {
    "kernelspec": {
      "name": "python",
      "display_name": "Python (Pyodide)",
      "language": "python"
    },
    "language_info": {
      "codemirror_mode": {
        "name": "python",
        "version": 3
      },
      "file_extension": ".py",
      "mimetype": "text/x-python",
      "name": "python",
      "nbconvert_exporter": "python",
      "pygments_lexer": "ipython3",
      "version": "3.8"
    },
    "colab": {
      "name": "Numpy Lab Exercise - Solutions (1).ipynb",
      "provenance": [],
      "version": "0.3.2"
    }
  },
  "nbformat_minor": 4,
  "nbformat": 4,
  "cells": [
    {
      "cell_type": "markdown",
      "source": "# NumPy Lab Exercises \n\nSolve the following questions",
      "metadata": {
        "colab_type": "text",
        "id": "Lp5ZVokLWfuw"
      }
    },
    {
      "cell_type": "markdown",
      "source": "#### Import NumPy package as np",
      "metadata": {
        "colab_type": "text",
        "id": "c62MZKqnWfux"
      }
    },
    {
      "cell_type": "code",
      "source": "import numpy as np",
      "metadata": {
        "colab": {},
        "colab_type": "code",
        "id": "SpTzkFLxWfuy",
        "trusted": true
      },
      "outputs": [],
      "execution_count": 1
    },
    {
      "cell_type": "markdown",
      "source": "#### Create an empty array of 20 0's and replace the 4th object with the number 5",
      "metadata": {
        "colab_type": "text",
        "id": "f2lX881tWfu2"
      }
    },
    {
      "cell_type": "code",
      "source": "a = np.zeros(20)\n\na[3]=5\n\na",
      "metadata": {
        "colab": {},
        "colab_type": "code",
        "id": "lVHPrQctWfu2",
        "outputId": "78b1c297-693c-40d3-f898-ba72d32d2a2b",
        "trusted": true
      },
      "outputs": [
        {
          "execution_count": 2,
          "output_type": "execute_result",
          "data": {
            "text/plain": "array([0., 0., 0., 5., 0., 0., 0., 0., 0., 0., 0., 0., 0., 0., 0., 0., 0.,\n       0., 0., 0.])"
          },
          "metadata": {}
        }
      ],
      "execution_count": 2
    },
    {
      "cell_type": "markdown",
      "source": "#### Create an array of 20 1's and store it as a variable named array_master. Copy the same array into another variable named array_copy",
      "metadata": {
        "colab_type": "text",
        "id": "dThXDXNiWfu7"
      }
    },
    {
      "cell_type": "code",
      "source": "array_master = np.ones(20)\n\narray_copy = array_master.copy()\n\narray_copy",
      "metadata": {
        "colab": {},
        "colab_type": "code",
        "id": "KvaMkeweWfu7",
        "outputId": "34a8b089-f6ac-4b2e-cc04-245b6350a270",
        "trusted": true
      },
      "outputs": [
        {
          "execution_count": 3,
          "output_type": "execute_result",
          "data": {
            "text/plain": "array([1., 1., 1., 1., 1., 1., 1., 1., 1., 1., 1., 1., 1., 1., 1., 1., 1.,\n       1., 1., 1.])"
          },
          "metadata": {}
        }
      ],
      "execution_count": 3
    },
    {
      "cell_type": "markdown",
      "source": "#### Create an array containing 30 1's and broadcast all the one's to the value 100",
      "metadata": {
        "colab_type": "text",
        "id": "bF-FlufIWfu-"
      }
    },
    {
      "cell_type": "code",
      "source": "array = np.ones(30)\n\narray[:] = 100\n\narray",
      "metadata": {
        "colab": {},
        "colab_type": "code",
        "id": "qaVjTJxFWfu-",
        "outputId": "a99168c4-5546-4789-85af-f79db3f08b72",
        "trusted": true
      },
      "outputs": [
        {
          "execution_count": 4,
          "output_type": "execute_result",
          "data": {
            "text/plain": "array([100., 100., 100., 100., 100., 100., 100., 100., 100., 100., 100.,\n       100., 100., 100., 100., 100., 100., 100., 100., 100., 100., 100.,\n       100., 100., 100., 100., 100., 100., 100., 100.])"
          },
          "metadata": {}
        }
      ],
      "execution_count": 4
    },
    {
      "cell_type": "markdown",
      "source": "#### Create an array of integers starting from 21 until 31 and name it as array1\n\n#### Create an array of integers starting from 11 until 21 and name it array2\n\n#### Calculate the difference between array1 and array2",
      "metadata": {
        "colab_type": "text",
        "id": "HKKqb87hWfvB"
      }
    },
    {
      "cell_type": "code",
      "source": "array1 = np.arange(21,32)\n\narray2 = np.arange(11,22)\n\narray1 - array2",
      "metadata": {
        "colab": {},
        "colab_type": "code",
        "id": "352yfktiWfvC",
        "outputId": "fc46fc6a-ed7f-4516-9943-18396a2fddb6",
        "trusted": true
      },
      "outputs": [
        {
          "execution_count": 5,
          "output_type": "execute_result",
          "data": {
            "text/plain": "array([10, 10, 10, 10, 10, 10, 10, 10, 10, 10, 10])"
          },
          "metadata": {}
        }
      ],
      "execution_count": 5
    },
    {
      "cell_type": "markdown",
      "source": "#### Create an array of all even integers from 2 to 10 and name it a1\n\n#### Create an array of all even integers from 22 to 30 and name it a2\n\n####  a) Use the 2 arrays as rows and create a matrix [ Hint - Use stack function from numpy ]",
      "metadata": {
        "colab_type": "text",
        "id": "4R-KERipWfvE"
      }
    },
    {
      "cell_type": "code",
      "source": "a1 = np.arange(2,11,2)\n\na2 = np.arange(22,31,2)\n\nnp.stack((a1,a2))",
      "metadata": {
        "colab": {},
        "colab_type": "code",
        "id": "0OjKCkmMWfvF",
        "outputId": "cc617196-d7cd-4925-a07b-7d57f89ad428",
        "trusted": true
      },
      "outputs": [
        {
          "execution_count": 6,
          "output_type": "execute_result",
          "data": {
            "text/plain": "array([[ 2,  4,  6,  8, 10],\n       [22, 24, 26, 28, 30]])"
          },
          "metadata": {}
        }
      ],
      "execution_count": 6
    },
    {
      "cell_type": "markdown",
      "source": "####  b) Use the 2 arrays as columns and create a matrix [ Hint - Use column_stack function from numpy ]",
      "metadata": {
        "colab_type": "text",
        "id": "VLJjqpKqWfvH"
      }
    },
    {
      "cell_type": "code",
      "source": "np.column_stack((a1,a2))",
      "metadata": {
        "colab": {},
        "colab_type": "code",
        "id": "l4VfVRhnWfvJ",
        "outputId": "02048f65-0989-487c-f26d-3c2d754dfc4d",
        "trusted": true
      },
      "outputs": [
        {
          "execution_count": 7,
          "output_type": "execute_result",
          "data": {
            "text/plain": "array([[ 2, 22],\n       [ 4, 24],\n       [ 6, 26],\n       [ 8, 28],\n       [10, 30]])"
          },
          "metadata": {}
        }
      ],
      "execution_count": 7
    },
    {
      "cell_type": "markdown",
      "source": "#### Create a 5x6 matrix with values ranging from 0 to 29 and retrieve the value intersecting at 2nd row and 3rd column",
      "metadata": {
        "colab_type": "text",
        "id": "niKmN4TiWfvM"
      }
    },
    {
      "cell_type": "code",
      "source": "array_matrix = np.arange(30).reshape(5,6)\n\narray_matrix[1,2]",
      "metadata": {
        "colab": {},
        "colab_type": "code",
        "id": "PVnwBW0IWfvM",
        "outputId": "c33f3efd-c28e-4f3d-d105-df99608df633",
        "trusted": true
      },
      "outputs": [
        {
          "execution_count": 8,
          "output_type": "execute_result",
          "data": {
            "text/plain": "8"
          },
          "metadata": {}
        }
      ],
      "execution_count": 8
    },
    {
      "cell_type": "markdown",
      "source": "#### Create an identity matrix of shape 10x10 and replace the 0's with the value 21",
      "metadata": {
        "colab_type": "text",
        "id": "U5WRwbSCWfvP"
      }
    },
    {
      "cell_type": "code",
      "source": "arr = np.eye(10)\n\narr[arr == 0] = 21\n\narr",
      "metadata": {
        "colab": {},
        "colab_type": "code",
        "id": "OnUDHAYYWfvP",
        "outputId": "0af647d7-05f2-4582-b721-01bb46d2a0e3",
        "trusted": true
      },
      "outputs": [
        {
          "execution_count": 9,
          "output_type": "execute_result",
          "data": {
            "text/plain": "array([[ 1., 21., 21., 21., 21., 21., 21., 21., 21., 21.],\n       [21.,  1., 21., 21., 21., 21., 21., 21., 21., 21.],\n       [21., 21.,  1., 21., 21., 21., 21., 21., 21., 21.],\n       [21., 21., 21.,  1., 21., 21., 21., 21., 21., 21.],\n       [21., 21., 21., 21.,  1., 21., 21., 21., 21., 21.],\n       [21., 21., 21., 21., 21.,  1., 21., 21., 21., 21.],\n       [21., 21., 21., 21., 21., 21.,  1., 21., 21., 21.],\n       [21., 21., 21., 21., 21., 21., 21.,  1., 21., 21.],\n       [21., 21., 21., 21., 21., 21., 21., 21.,  1., 21.],\n       [21., 21., 21., 21., 21., 21., 21., 21., 21.,  1.]])"
          },
          "metadata": {}
        }
      ],
      "execution_count": 9
    },
    {
      "cell_type": "markdown",
      "source": "#### Use NumPy to generate a random set of 10 numbers between 0 and 1\n\n#### Display a boolean array output where all values > 0.2 are True, rest are marked as False",
      "metadata": {
        "colab_type": "text",
        "id": "fRsaQkJ7WfvS"
      }
    },
    {
      "cell_type": "code",
      "source": "ar = np.random.rand(10)\n\nar>0.2",
      "metadata": {
        "colab": {},
        "colab_type": "code",
        "id": "JZDFFk9YWfvS",
        "outputId": "35147e2d-8ab4-4dbc-9ca6-0d8e3a8f6848",
        "trusted": true
      },
      "outputs": [
        {
          "execution_count": 10,
          "output_type": "execute_result",
          "data": {
            "text/plain": "array([ True,  True,  True,  True,  True,  True,  True, False,  True,\n       False])"
          },
          "metadata": {}
        }
      ],
      "execution_count": 10
    },
    {
      "cell_type": "markdown",
      "source": "#### Use NumPy to generate an array matrix of 5x2 random numbers sampled from a standard normal distribution",
      "metadata": {
        "colab_type": "text",
        "id": "1Z7l0TYxWfvV"
      }
    },
    {
      "cell_type": "code",
      "source": "np.random.randn(5,2)",
      "metadata": {
        "colab": {},
        "colab_type": "code",
        "id": "FtVgVTJdWfvV",
        "outputId": "321bada4-4f60-4431-c5be-8bcf1e93b206",
        "trusted": true
      },
      "outputs": [
        {
          "execution_count": 11,
          "output_type": "execute_result",
          "data": {
            "text/plain": "array([[-0.45887835,  0.23607201],\n       [ 0.63432705, -0.80518953],\n       [ 0.51969455, -0.59799104],\n       [-0.76939338, -2.16135574],\n       [-0.0949041 ,  0.16451412]])"
          },
          "metadata": {}
        }
      ],
      "execution_count": 11
    },
    {
      "cell_type": "markdown",
      "source": "#### Create an array of 30 linearly spaced points between 0 and 100:",
      "metadata": {
        "colab_type": "text",
        "id": "qTzYA4pPWfvY"
      }
    },
    {
      "cell_type": "code",
      "source": "np.linspace(0,100,30)",
      "metadata": {
        "colab": {},
        "colab_type": "code",
        "id": "6nTHKqIXWfvZ",
        "outputId": "1b3e9199-ed3a-46c0-8ecd-c4cec9858eb1",
        "trusted": true
      },
      "outputs": [
        {
          "execution_count": 12,
          "output_type": "execute_result",
          "data": {
            "text/plain": "array([  0.        ,   3.44827586,   6.89655172,  10.34482759,\n        13.79310345,  17.24137931,  20.68965517,  24.13793103,\n        27.5862069 ,  31.03448276,  34.48275862,  37.93103448,\n        41.37931034,  44.82758621,  48.27586207,  51.72413793,\n        55.17241379,  58.62068966,  62.06896552,  65.51724138,\n        68.96551724,  72.4137931 ,  75.86206897,  79.31034483,\n        82.75862069,  86.20689655,  89.65517241,  93.10344828,\n        96.55172414, 100.        ])"
          },
          "metadata": {}
        }
      ],
      "execution_count": 12
    },
    {
      "cell_type": "markdown",
      "source": "## Numpy Indexing and Selections\n\nUsing the below given Matrix, generate the output for the below questions",
      "metadata": {
        "colab_type": "text",
        "id": "KqmTGelEWfvc"
      }
    },
    {
      "cell_type": "code",
      "source": "simple_matrix = np.arange(1,101).reshape(10,10)\nsimple_matrix",
      "metadata": {
        "colab": {},
        "colab_type": "code",
        "id": "pm3KmD3IWfvd",
        "outputId": "91789817-6799-4999-e2e5-8b58833d492e",
        "trusted": true
      },
      "outputs": [
        {
          "execution_count": 13,
          "output_type": "execute_result",
          "data": {
            "text/plain": "array([[  1,   2,   3,   4,   5,   6,   7,   8,   9,  10],\n       [ 11,  12,  13,  14,  15,  16,  17,  18,  19,  20],\n       [ 21,  22,  23,  24,  25,  26,  27,  28,  29,  30],\n       [ 31,  32,  33,  34,  35,  36,  37,  38,  39,  40],\n       [ 41,  42,  43,  44,  45,  46,  47,  48,  49,  50],\n       [ 51,  52,  53,  54,  55,  56,  57,  58,  59,  60],\n       [ 61,  62,  63,  64,  65,  66,  67,  68,  69,  70],\n       [ 71,  72,  73,  74,  75,  76,  77,  78,  79,  80],\n       [ 81,  82,  83,  84,  85,  86,  87,  88,  89,  90],\n       [ 91,  92,  93,  94,  95,  96,  97,  98,  99, 100]])"
          },
          "metadata": {}
        }
      ],
      "execution_count": 13
    },
    {
      "cell_type": "markdown",
      "source": "#### a) Retrieve the last 2 rows and first 3 column values of the above matrix using index & selection technique",
      "metadata": {
        "colab_type": "text",
        "collapsed": true,
        "id": "pHeZcfIeWfvg",
        "jupyter": {
          "outputs_hidden": true
        }
      }
    },
    {
      "cell_type": "code",
      "source": "simple_matrix[8:,0:3]",
      "metadata": {
        "colab": {},
        "colab_type": "code",
        "id": "fbGjB4__Wfvh",
        "outputId": "16b98af3-1a34-49dd-b1f4-d6953110757d",
        "trusted": true
      },
      "outputs": [
        {
          "execution_count": 14,
          "output_type": "execute_result",
          "data": {
            "text/plain": "array([[81, 82, 83],\n       [91, 92, 93]])"
          },
          "metadata": {}
        }
      ],
      "execution_count": 14
    },
    {
      "cell_type": "markdown",
      "source": "#### b) Retrieve the value 55 from the above matrix using index & selection technique",
      "metadata": {
        "colab_type": "text",
        "collapsed": true,
        "id": "2wJa4BSaWfvj",
        "jupyter": {
          "outputs_hidden": true
        }
      }
    },
    {
      "cell_type": "code",
      "source": "simple_matrix[5,4]",
      "metadata": {
        "colab": {},
        "colab_type": "code",
        "id": "AegcurX4Wfvk",
        "outputId": "cee2bcbb-6e7d-4a89-faaf-10ba95dffc14",
        "trusted": true
      },
      "outputs": [
        {
          "execution_count": 15,
          "output_type": "execute_result",
          "data": {
            "text/plain": "55"
          },
          "metadata": {}
        }
      ],
      "execution_count": 15
    },
    {
      "cell_type": "markdown",
      "source": "#### c) Retrieve the values from the 3rd column in the above matrix",
      "metadata": {
        "colab_type": "text",
        "collapsed": true,
        "id": "wWPhtOkgWfvn",
        "jupyter": {
          "outputs_hidden": true
        }
      }
    },
    {
      "cell_type": "code",
      "source": "simple_matrix[:,2]",
      "metadata": {
        "colab": {},
        "colab_type": "code",
        "id": "eUNk6QxPWfvo",
        "outputId": "64cd12f5-0af7-4840-e6f5-008efe3f3a16",
        "trusted": true
      },
      "outputs": [
        {
          "execution_count": 16,
          "output_type": "execute_result",
          "data": {
            "text/plain": "array([ 3, 13, 23, 33, 43, 53, 63, 73, 83, 93])"
          },
          "metadata": {}
        }
      ],
      "execution_count": 16
    },
    {
      "cell_type": "markdown",
      "source": "#### d) Retrieve the values from the 4th row in the above matrix",
      "metadata": {
        "colab_type": "text",
        "collapsed": true,
        "id": "dfZ_PbMlWfvr",
        "jupyter": {
          "outputs_hidden": true
        }
      }
    },
    {
      "cell_type": "code",
      "source": "simple_matrix[3,:]",
      "metadata": {
        "colab": {},
        "colab_type": "code",
        "id": "-clpnQ8yWfvs",
        "outputId": "000cfe2b-7d05-43fe-e2e0-6777ef1625b9",
        "trusted": true
      },
      "outputs": [
        {
          "execution_count": 17,
          "output_type": "execute_result",
          "data": {
            "text/plain": "array([31, 32, 33, 34, 35, 36, 37, 38, 39, 40])"
          },
          "metadata": {}
        }
      ],
      "execution_count": 17
    },
    {
      "cell_type": "markdown",
      "source": "#### e) Retrieve values from the 2nd & 4th rows in the above matrix",
      "metadata": {
        "colab_type": "text",
        "collapsed": true,
        "id": "t9ua2w55Wfvu",
        "jupyter": {
          "outputs_hidden": true
        }
      }
    },
    {
      "cell_type": "code",
      "source": "simple_matrix[(1,3),:]",
      "metadata": {
        "colab": {},
        "colab_type": "code",
        "id": "RVZJNF7sWfvv",
        "outputId": "863789c2-dfdb-458b-8bfe-b76f5dee2c0d",
        "trusted": true
      },
      "outputs": [
        {
          "execution_count": 18,
          "output_type": "execute_result",
          "data": {
            "text/plain": "array([[11, 12, 13, 14, 15, 16, 17, 18, 19, 20],\n       [31, 32, 33, 34, 35, 36, 37, 38, 39, 40]])"
          },
          "metadata": {}
        }
      ],
      "execution_count": 18
    },
    {
      "cell_type": "markdown",
      "source": "### Calculate the following values for the given matrix",
      "metadata": {
        "colab_type": "text",
        "id": "4bwQCCltWfvy"
      }
    },
    {
      "cell_type": "markdown",
      "source": "#### a) Calculate sum of all the values in the matrix",
      "metadata": {
        "colab_type": "text",
        "id": "KJie8xeZWfv1"
      }
    },
    {
      "cell_type": "code",
      "source": "simple_matrix.sum()",
      "metadata": {
        "colab": {},
        "colab_type": "code",
        "id": "ItHB9_nuWfv2",
        "outputId": "2abc983b-fb77-4a88-a43f-035b4270f431",
        "trusted": true
      },
      "outputs": [
        {
          "execution_count": 19,
          "output_type": "execute_result",
          "data": {
            "text/plain": "5050"
          },
          "metadata": {}
        }
      ],
      "execution_count": 19
    },
    {
      "cell_type": "markdown",
      "source": "#### b) Calculate standard deviation of all the values in the matrix",
      "metadata": {
        "colab_type": "text",
        "id": "4f7xVNwdWfv4"
      }
    },
    {
      "cell_type": "code",
      "source": "simple_matrix.std()",
      "metadata": {
        "colab": {},
        "colab_type": "code",
        "id": "GXMAuXmEWfv5",
        "outputId": "08f9cc5d-2a35-470b-cbde-1bde15add15f",
        "trusted": true
      },
      "outputs": [
        {
          "execution_count": 20,
          "output_type": "execute_result",
          "data": {
            "text/plain": "28.86607004772212"
          },
          "metadata": {}
        }
      ],
      "execution_count": 20
    },
    {
      "cell_type": "markdown",
      "source": "#### c) Calculate the variance of all values in the matrix",
      "metadata": {
        "colab_type": "text",
        "id": "w6UG88Z3Wfv7"
      }
    },
    {
      "cell_type": "code",
      "source": "simple_matrix.var()",
      "metadata": {
        "colab": {},
        "colab_type": "code",
        "id": "mK3Dg9HcWfv8",
        "outputId": "1219ef2e-ef5e-45d1-fd91-53d97d12988e",
        "trusted": true
      },
      "outputs": [
        {
          "execution_count": 21,
          "output_type": "execute_result",
          "data": {
            "text/plain": "833.25"
          },
          "metadata": {}
        }
      ],
      "execution_count": 21
    },
    {
      "cell_type": "markdown",
      "source": "#### d) Calculate the mean of all values in the matrix",
      "metadata": {
        "colab_type": "text",
        "collapsed": true,
        "id": "XrLeJqpqWfv9",
        "jupyter": {
          "outputs_hidden": true
        }
      }
    },
    {
      "cell_type": "code",
      "source": "simple_matrix.mean()",
      "metadata": {
        "colab": {},
        "colab_type": "code",
        "id": "CkTZoE6sWfv-",
        "outputId": "d0611461-2429-46b3-f7fe-e2fff4cc0c35",
        "trusted": true
      },
      "outputs": [
        {
          "execution_count": 22,
          "output_type": "execute_result",
          "data": {
            "text/plain": "50.5"
          },
          "metadata": {}
        }
      ],
      "execution_count": 22
    },
    {
      "cell_type": "markdown",
      "source": "#### e) Retrieve the largest number from the matrix",
      "metadata": {
        "colab_type": "text",
        "id": "z8KLRmmAWfwA"
      }
    },
    {
      "cell_type": "code",
      "source": "simple_matrix.max()",
      "metadata": {
        "colab": {},
        "colab_type": "code",
        "id": "RdFESOK5WfwA",
        "outputId": "dd25a1fb-56b8-460b-9395-7290f3130f10",
        "trusted": true
      },
      "outputs": [
        {
          "execution_count": 23,
          "output_type": "execute_result",
          "data": {
            "text/plain": "100"
          },
          "metadata": {}
        }
      ],
      "execution_count": 23
    },
    {
      "cell_type": "markdown",
      "source": "#### f) Retrieve the smallest number from the matrix",
      "metadata": {
        "colab_type": "text",
        "id": "urIyRtI3WfwC"
      }
    },
    {
      "cell_type": "code",
      "source": "simple_matrix.min()",
      "metadata": {
        "colab": {},
        "colab_type": "code",
        "id": "z35HtXjIWfwC",
        "outputId": "ac462976-127c-44c8-a121-79c9a5f64871",
        "trusted": true
      },
      "outputs": [
        {
          "execution_count": 24,
          "output_type": "execute_result",
          "data": {
            "text/plain": "1"
          },
          "metadata": {}
        }
      ],
      "execution_count": 24
    },
    {
      "cell_type": "markdown",
      "source": "### End of Lab Exercise - NumPy",
      "metadata": {
        "colab_type": "text",
        "id": "6y9g6SSaWfwF"
      }
    }
  ]
}